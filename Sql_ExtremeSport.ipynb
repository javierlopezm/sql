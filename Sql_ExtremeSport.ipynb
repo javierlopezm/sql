{
 "cells": [
  {
   "cell_type": "markdown",
   "metadata": {},
   "source": [
    "# **<font color = '#3498eb'>SECTOR & COMPANY</font>**"
   ]
  },
  {
   "cell_type": "markdown",
   "metadata": {},
   "source": [
    "Extreme Sports House is a mountain and adventure distribution company. \n",
    "\n",
    "The outdoor apparel and gear sector, which encompasses mountain and adventure clothing and objects, has seen significant growth over the years. According to reports by the Outdoor Industry Association, consumer spending on outdoor recreation totaled $887 billion in 2017. This growth has been fueled by an increasing consumer focus on health and well-being, as well as a surge in adventure tourism. Various trends, such as the rising popularity of sustainable and eco-friendly products, are shaping the industry."
   ]
  },
  {
   "cell_type": "markdown",
   "metadata": {},
   "source": [
    "# **<font color = '#3498eb'>OBJETIVES</font>**"
   ]
  },
  {
   "cell_type": "markdown",
   "metadata": {},
   "source": [
    "The company has enlisted me to:\n",
    "\n",
    "· Extract maximum value from their existing data.\n",
    "\n",
    "· Identify the most profitable channels.\n",
    "\n",
    "· Determine who their most valuable clients are.\n",
    "\n",
    "· Develop strategies to increase profit margins.\n",
    "\n",
    "· Review the product portfolio to cut costs.\n",
    "\n",
    "· Optimize customer management processes.\n",
    "\n",
    "· Build a SQL-based recommendation system to increase cross-selling opportunities."
   ]
  },
  {
   "cell_type": "markdown",
   "metadata": {},
   "source": [
    "# **<font color = '#3498eb'>LIBRARIES</font>**"
   ]
  },
  {
   "cell_type": "code",
   "execution_count": 4,
   "metadata": {},
   "outputs": [],
   "source": [
    "import pandas as pd\n",
    "import pymysql\n",
    "import tabulate "
   ]
  },
  {
   "cell_type": "markdown",
   "metadata": {},
   "source": [
    "# **<font color = '#3498eb'>DATA LOADING AND UNDERSTANDING</font>**"
   ]
  },
  {
   "cell_type": "markdown",
   "metadata": {},
   "source": [
    "## GENERAL VIEW"
   ]
  },
  {
   "cell_type": "code",
   "execution_count": 5,
   "metadata": {},
   "outputs": [
    {
     "name": "stdout",
     "output_type": "stream",
     "text": [
      "Currently using the database: extremesportshouse\n"
     ]
    }
   ],
   "source": [
    "eshdb_conn = pymysql.connect(host='localhost', user='root', password='b8SO0ibY5claaghlgiehgld', database='extremesportshouse')\n",
    "\n",
    "eshdb_cursor = eshdb_conn.cursor()\n",
    "\n",
    "eshdb_cursor.execute(\"SELECT DATABASE();\")\n",
    "print(\"Currently using the database:\", eshdb_cursor.fetchone()[0])"
   ]
  },
  {
   "cell_type": "markdown",
   "metadata": {},
   "source": [
    "I review the tables of the database and then review each table."
   ]
  },
  {
   "cell_type": "code",
   "execution_count": 13,
   "metadata": {},
   "outputs": [
    {
     "name": "stdout",
     "output_type": "stream",
     "text": [
      "--------\n",
      "channels\n",
      "products\n",
      "sales\n",
      "stores\n",
      "--------\n"
     ]
    }
   ],
   "source": [
    "eshdb_cursor.execute(\"show tables from extremesportshouse;\")\n",
    "print(tabulate.tabulate([list(eachtuple) for eachtuple in eshdb_cursor.fetchall()]))"
   ]
  },
  {
   "cell_type": "code",
   "execution_count": 29,
   "metadata": {},
   "outputs": [
    {
     "name": "stdout",
     "output_type": "stream",
     "text": [
      "--  -----------\n",
      " 1  Fax\n",
      " 2  Telephone\n",
      " 3  Mail\n",
      " 4  E-mail\n",
      " 5  Web\n",
      " 6  Sales visit\n",
      " 7  Special\n",
      " 8  Other\n",
      " 9  Other\n",
      "10  Other\n",
      "11  Other\n",
      "12  Other\n",
      "--  -----------\n"
     ]
    }
   ],
   "source": [
    "eshdb_cursor.execute(\"select * from channels;\")\n",
    "print(tabulate.tabulate([list(eachtuple) for eachtuple in eshdb_cursor.fetchall()]))"
   ]
  },
  {
   "cell_type": "code",
   "execution_count": 19,
   "metadata": {},
   "outputs": [
    {
     "name": "stdout",
     "output_type": "stream",
     "text": [
      "  product_id  line               type          product                    brand      color          cost    price\n",
      "------------  -----------------  ------------  -------------------------  ---------  -----------  ------  -------\n",
      "        1110  Camping Equipment  Cooking Gear  TrailChef Water Bag        TrailChef  Clear          2.77     6.59\n",
      "        2110  Camping Equipment  Cooking Gear  TrailChef Canteen          TrailChef  Brown          6.92    12.92\n",
      "        3110  Camping Equipment  Cooking Gear  TrailChef Kitchen Kit      TrailChef  Unspecified   15.78    23.8\n",
      "        4110  Camping Equipment  Cooking Gear  TrailChef Cup              TrailChef  Silver         0.85     3.66\n",
      "        5110  Camping Equipment  Cooking Gear  TrailChef Cook Set         TrailChef  Silver        34.41    54.93\n",
      "        6110  Camping Equipment  Cooking Gear  TrailChef Deluxe Cook Set  TrailChef  Silver        78.72   129.72\n",
      "        7110  Camping Equipment  Cooking Gear  TrailChef Single Flame     TrailChef  Silver        46.38    66.77\n",
      "        8110  Camping Equipment  Cooking Gear  TrailChef Double Flame     TrailChef  Green         75      151.77\n",
      "        9110  Camping Equipment  Cooking Gear  TrailChef Kettle           TrailChef  Ash            5.07    13.22\n",
      "       10110  Camping Equipment  Cooking Gear  TrailChef Utensils         TrailChef  Silver         9.68    19.29\n"
     ]
    }
   ],
   "source": [
    "eshdb_cursor.execute(\"select * from products;\")\n",
    "print(tabulate.tabulate([list(row) for row in eshdb_cursor.fetchall()[:10]], headers=[desc[0] for desc in eshdb_cursor.description]))"
   ]
  },
  {
   "cell_type": "code",
   "execution_count": 3,
   "metadata": {},
   "outputs": [
    {
     "name": "stdout",
     "output_type": "stream",
     "text": [
      "  store_id    product_id    channel_id  date          quantity    official_price    offer_price\n",
      "----------  ------------  ------------  ----------  ----------  ----------------  -------------\n",
      "      1201        109110             4  12/01/2015         648             76.86          71.48\n",
      "      1201        112110             4  12/01/2015         799             10.64          10.21\n",
      "      1201        115110             4  12/01/2015         755             10.71          10.28\n",
      "      1205         70240             3  12/01/2015          70            122.7          114.11\n",
      "      1205         71110             3  12/01/2015          28             95.62          92.75\n",
      "      1215         73110             2  12/01/2015        3992             12.78          11.89\n",
      "      1215         83110             2  12/01/2015         156             96.44          89.69\n",
      "      1215         86110             2  12/01/2015        2615              6              5.58\n",
      "      1215         93110             2  12/01/2015        1913              5              4.65\n",
      "      1215         96110             2  12/01/2015         493             23             22.08\n"
     ]
    }
   ],
   "source": [
    "eshdb_cursor.execute(\"select * from sales;\")\n",
    "print(tabulate.tabulate([list(row) for row in eshdb_cursor.fetchall()[:10]], headers=[desc[0] for desc in eshdb_cursor.description]))"
   ]
  },
  {
   "cell_type": "code",
   "execution_count": 31,
   "metadata": {},
   "outputs": [
    {
     "name": "stdout",
     "output_type": "stream",
     "text": [
      "  store_id  store_name            type                    country\n",
      "----------  --------------------  ----------------------  -----------\n",
      "      1101  ActiForme             Equipment Rental Store  France\n",
      "      1115  SportsClub            Golf Shop               France\n",
      "      1123  Anapurna              Direct Marketing        France\n",
      "      1132  Cordages Discount     Warehouse Store         France\n",
      "      1133  Altitudes extrÃªmes   Outdoors Shop           France\n",
      "      1134  Optique et Lentilles  Eyewear Store           France\n",
      "      1135  Camping Sauvage       Outdoors Shop           France\n",
      "      1137  Grand choix           Department Store        Switzerland\n",
      "      1144  Die Fitness-Experten  Direct Marketing        Germany\n",
      "      1147  Der Fitness-Doktor    Sports Store            Germany\n"
     ]
    }
   ],
   "source": [
    "eshdb_cursor.execute(\"select * from stores;\")\n",
    "print(tabulate.tabulate([list(row) for row in eshdb_cursor.fetchall()[:10]], headers=[desc[0] for desc in eshdb_cursor.description]))"
   ]
  },
  {
   "cell_type": "markdown",
   "metadata": {},
   "source": [
    "## SALES TABLE"
   ]
  },
  {
   "cell_type": "markdown",
   "metadata": {},
   "source": [
    "The company ask me to complete these tasks:\n",
    "\n",
    "· Review the types of variables.\n",
    "\n",
    "· Check if the table is in this level store-product-channel-date.\n",
    "\n",
    "· Include a new variable with the total revenue of every sale."
   ]
  },
  {
   "cell_type": "code",
   "execution_count": 7,
   "metadata": {},
   "outputs": [
    {
     "name": "stdout",
     "output_type": "stream",
     "text": [
      "Field           Type    Null    Key    Default    Extra\n",
      "--------------  ------  ------  -----  ---------  -------\n",
      "store_id        int     YES     MUL\n",
      "product_id      int     YES     MUL\n",
      "channel_id      int     YES     MUL\n",
      "date            text    YES\n",
      "quantity        int     YES\n",
      "official_price  double  YES\n",
      "offer_price     double  YES\n"
     ]
    }
   ],
   "source": [
    "eshdb_cursor.execute(\"describe sales;\")\n",
    "print(tabulate.tabulate([list(row) for row in eshdb_cursor.fetchall()], headers=[desc[0] for desc in eshdb_cursor.description]))"
   ]
  },
  {
   "cell_type": "markdown",
   "metadata": {},
   "source": [
    "date type should be changed but I'll do it later so I have to create a new table."
   ]
  },
  {
   "cell_type": "markdown",
   "metadata": {},
   "source": [
    "Let's check now if the table is in this level: store-product-channel-date. if I do a group by by these variables there shouldn't been duplicated values."
   ]
  },
  {
   "cell_type": "code",
   "execution_count": 17,
   "metadata": {},
   "outputs": [
    {
     "name": "stdout",
     "output_type": "stream",
     "text": [
      "  store_id    product_id    channel_id  date          quantity    official_price    offer_price    repeated_reg\n",
      "----------  ------------  ------------  ----------  ----------  ----------------  -------------  --------------\n",
      "      1115        127110             5  22/12/2016         203             20.15          20.15               2\n",
      "      1115        127130             5  13/07/2018         133             21.25          21.25               2\n",
      "      1115        127130             5  22/12/2016         205             20.15          20.15               2\n",
      "      1115        129130             5  22/12/2016          19            220            220                  2\n",
      "      1115        130110             5  22/12/2016          24            167.2          167.2                2\n",
      "      1115        130130             2  16/01/2015           4            172            172                  2\n",
      "      1115        132120             2  18/10/2015           3             80             80                  2\n",
      "      1115        132120             5  22/12/2016          54             80             80                  2\n",
      "      1115        132170             5  13/07/2018          31             89.3           89.3                2\n",
      "      1115        132170             5  22/12/2016          48             85             85                  2\n",
      "      1115        144170             5  13/07/2018          15            189            189                  2\n",
      "      1115        144180             2  09/02/2016           4            188            188                  2\n",
      "      1115        144180             5  22/12/2016          21            188            188                  2\n",
      "      1115        145130             5  11/07/2017           1            274            274                  2\n",
      "      1115        145170             5  08/02/2018           2            270.2          270.2                2\n",
      "      1115        145170             5  11/01/2017           1            270.2          270.2                2\n",
      "      1115        145170             5  11/07/2017           1            270.2          270.2                2\n",
      "      1115        147110             5  22/12/2016         130             30.7           30.7                2\n",
      "      1115        147120             5  22/12/2016         131             30.7           30.7                2\n",
      "      1115        147130             5  13/07/2018          91             33.15          33.15               2\n"
     ]
    }
   ],
   "source": [
    "eshdb_cursor.execute(\"\"\"\n",
    "    select *, count(*) as repeated_reg\n",
    "    from sales\n",
    "    group by store_id, product_id, channel_id, date\n",
    "    having repeated_reg > 1\n",
    "    order by store_id, product_id, channel_id, date\n",
    "    limit 20;\n",
    "    \"\"\")\n",
    "\n",
    "print(tabulate.tabulate([list(row) for row in eshdb_cursor.fetchall()], headers=[desc[0] for desc in eshdb_cursor.description]))"
   ]
  },
  {
   "cell_type": "markdown",
   "metadata": {},
   "source": [
    "Here we can see that there're records that has the same values in store_id, product_id, channel_id and date variables. \n",
    "\n",
    "Let's extract the frist example we can see in the above table. "
   ]
  },
  {
   "cell_type": "code",
   "execution_count": 21,
   "metadata": {},
   "outputs": [
    {
     "name": "stdout",
     "output_type": "stream",
     "text": [
      "  store_id    product_id    channel_id  date          quantity    official_price    offer_price\n",
      "----------  ------------  ------------  ----------  ----------  ----------------  -------------\n",
      "      1115        127110             5  22/12/2016         203             20.15          20.15\n",
      "      1115        127110             5  22/12/2016         271             20.15          20.15\n"
     ]
    }
   ],
   "source": [
    "eshdb_cursor.execute(\"\"\"\n",
    "    select *\n",
    "    from sales\n",
    "    where store_id=1115 and product_id=127110 and channel_id=5 and date='22/12/2016';\n",
    "    \"\"\")\n",
    "\n",
    "print(tabulate.tabulate([list(row) for row in eshdb_cursor.fetchall()], headers=[desc[0] for desc in eshdb_cursor.description]))"
   ]
  },
  {
   "cell_type": "markdown",
   "metadata": {},
   "source": [
    "We can see here that only quantity value is different.\n",
    "\n",
    "To have the table in the level required I'll agregate it by store, product, channel and date and I'll apply an aggregation function to the rest of variables, more concretly, the sum in qunatity and the average in official price and offer price. \n",
    "\n",
    "As I stated before, I take the opportunity to cast the value of date.\n",
    "\n",
    "I also will include a new variable with the total revenue of every sale."
   ]
  },
  {
   "cell_type": "code",
   "execution_count": null,
   "metadata": {},
   "outputs": [],
   "source": [
    "eshdb_cursor.execute(\"\"\"\n",
    "    create table agregated_sales as\n",
    "    select str_to_date(date, '%d/%m/%Y') as order_date, \n",
    "    product_id, \n",
    "    store_id, \n",
    "    channel_id, \n",
    "    sum(quantity) as quantity, \n",
    "    avg(official_price) as official_price, \n",
    "    avg(offer_price) as offer_price, \n",
    "    sum(quantity) * avg(offer_price) as total_revenue\n",
    "    from sales\n",
    "    group by store_id, product_id, channel_id, order_date\n",
    "    \"\"\")"
   ]
  },
  {
   "cell_type": "code",
   "execution_count": 17,
   "metadata": {},
   "outputs": [
    {
     "name": "stdout",
     "output_type": "stream",
     "text": [
      "order_date      product_id    store_id    channel_id    quantity    official_price    offer_price    total_revenue\n",
      "------------  ------------  ----------  ------------  ----------  ----------------  -------------  ---------------\n",
      "2015-01-12          109110        1201             4         648             76.86          71.48         46319\n",
      "2015-01-12          112110        1201             4         799             10.64          10.21          8157.79\n",
      "2015-01-12          115110        1201             4         755             10.71          10.28          7761.4\n",
      "2015-01-12           70240        1205             3          70            122.7          114.11          7987.7\n",
      "2015-01-12           71110        1205             3          28             95.62          92.75          2597\n"
     ]
    }
   ],
   "source": [
    "eshdb_cursor.execute(\"SELECT * FROM agregated_sales LIMIT 5;\")\n",
    "print(tabulate.tabulate([list(row) for row in eshdb_cursor.fetchall()], headers=[desc[0] for desc in eshdb_cursor.description]))"
   ]
  },
  {
   "cell_type": "code",
   "execution_count": 20,
   "metadata": {},
   "outputs": [
    {
     "name": "stdout",
     "output_type": "stream",
     "text": [
      "order_date    product_id    store_id    channel_id    quantity    official_price    offer_price    total_revenue    repeated_reg\n",
      "------------  ------------  ----------  ------------  ----------  ----------------  -------------  ---------------  --------------\n"
     ]
    }
   ],
   "source": [
    "# I execute the code again to see if, effectively, there's no duplicated records now\n",
    "\n",
    "eshdb_cursor.execute(\"\"\"\n",
    "    select *, count(*) as repeated_reg\n",
    "    from agregated_sales\n",
    "    group by store_id, product_id, channel_id, order_date\n",
    "    having repeated_reg > 1;\n",
    "    \"\"\")\n",
    "\n",
    "print(tabulate.tabulate([list(row) for row in eshdb_cursor.fetchall()], headers=[desc[0] for desc in eshdb_cursor.description]))"
   ]
  },
  {
   "cell_type": "markdown",
   "metadata": {},
   "source": [
    "Now the data science lead in ESH company ask me to modify this new agregated_sales table to relationate it with the rest of tables. Once done, I'll create a new ERModel to document it."
   ]
  },
  {
   "cell_type": "code",
   "execution_count": 7,
   "metadata": {},
   "outputs": [
    {
     "data": {
      "text/plain": [
       "134688"
      ]
     },
     "execution_count": 7,
     "metadata": {},
     "output_type": "execute_result"
    }
   ],
   "source": [
    "# First I add a primary key to the table and then I modify some others\n",
    "\n",
    "eshdb_cursor.execute(\"\"\"\n",
    "    alter table agregated_sales\n",
    "        add sales_id int auto_increment primary key,\n",
    "        add foreign key(product_id) references products(product_id) on delete cascade,\n",
    "        add foreign key(store_id) references stores(store_id) on delete cascade,\n",
    "        add foreign key(channel_id) references channels(channel_id) on delete cascade;\n",
    "    \"\"\")"
   ]
  },
  {
   "cell_type": "markdown",
   "metadata": {},
   "source": [
    "I create the new ER-Model in MysqlWB\n",
    "\n",
    "<img src=\"ESH_ermodel.png\">"
   ]
  },
  {
   "cell_type": "markdown",
   "metadata": {},
   "source": [
    "They want to do sometimes analysis by orders (one order has the same date, store and channel) so I'll create a view over the table agregated_sales that icludes it. "
   ]
  }
 ],
 "metadata": {
  "kernelspec": {
   "display_name": "env_SQLExtremeSport",
   "language": "python",
   "name": "python3"
  },
  "language_info": {
   "codemirror_mode": {
    "name": "ipython",
    "version": 3
   },
   "file_extension": ".py",
   "mimetype": "text/x-python",
   "name": "python",
   "nbconvert_exporter": "python",
   "pygments_lexer": "ipython3",
   "version": "3.9.18"
  }
 },
 "nbformat": 4,
 "nbformat_minor": 2
}
