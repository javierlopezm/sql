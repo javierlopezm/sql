{
 "cells": [
  {
   "cell_type": "markdown",
   "metadata": {},
   "source": [
    "# **<font color = '#3498eb'>SECTOR & COMPANY</font>**"
   ]
  },
  {
   "cell_type": "markdown",
   "metadata": {},
   "source": [
    "Extreme Sports House is a mountain and adventure distribution company. \n",
    "\n",
    "The outdoor apparel and gear sector, which encompasses mountain and adventure clothing and objects, has seen significant growth over the years. According to reports by the Outdoor Industry Association, consumer spending on outdoor recreation totaled $887 billion in 2017. This growth has been fueled by an increasing consumer focus on health and well-being, as well as a surge in adventure tourism. Various trends, such as the rising popularity of sustainable and eco-friendly products, are shaping the industry."
   ]
  },
  {
   "cell_type": "markdown",
   "metadata": {},
   "source": [
    "# **<font color = '#3498eb'>OBJETIVES</font>**"
   ]
  },
  {
   "cell_type": "markdown",
   "metadata": {},
   "source": [
    "The company has enlisted me to:\n",
    "\n",
    "· Extract maximum value from their existing data.\n",
    "\n",
    "· Identify the most profitable channels.\n",
    "\n",
    "· Determine who their most valuable clients are.\n",
    "\n",
    "· Develop strategies to increase profit margins.\n",
    "\n",
    "· Review the product portfolio to cut costs.\n",
    "\n",
    "· Optimize customer management processes.\n",
    "\n",
    "· Build a SQL-based recommendation system to increase cross-selling opportunities."
   ]
  },
  {
   "cell_type": "markdown",
   "metadata": {},
   "source": [
    "# **<font color = '#3498eb'>LIBRARIES</font>**"
   ]
  },
  {
   "cell_type": "code",
   "execution_count": 1,
   "metadata": {},
   "outputs": [],
   "source": [
    "import pandas as pd\n",
    "import pymysql\n",
    "import tabulate "
   ]
  },
  {
   "cell_type": "markdown",
   "metadata": {},
   "source": [
    "# **<font color = '#3498eb'>DATA LOADING AND UNDERSTANDING</font>**"
   ]
  },
  {
   "cell_type": "markdown",
   "metadata": {},
   "source": [
    "## GENERAL VIEW"
   ]
  },
  {
   "cell_type": "code",
   "execution_count": 2,
   "metadata": {},
   "outputs": [
    {
     "name": "stdout",
     "output_type": "stream",
     "text": [
      "Currently using the database: extremesportshouse\n"
     ]
    }
   ],
   "source": [
    "eshdb_conn = pymysql.connect(host='localhost', user='root', password='b8SO0ibY5claaghlgiehgld', database='extremesportshouse')\n",
    "\n",
    "eshdb_cursor = eshdb_conn.cursor()\n",
    "\n",
    "eshdb_cursor.execute(\"SELECT DATABASE();\")\n",
    "print(\"Currently using the database:\", eshdb_cursor.fetchone()[0])"
   ]
  },
  {
   "cell_type": "markdown",
   "metadata": {},
   "source": [
    "I review the tables of the database and then review each table."
   ]
  },
  {
   "cell_type": "code",
   "execution_count": 13,
   "metadata": {},
   "outputs": [
    {
     "name": "stdout",
     "output_type": "stream",
     "text": [
      "--------\n",
      "channels\n",
      "products\n",
      "sales\n",
      "stores\n",
      "--------\n"
     ]
    }
   ],
   "source": [
    "eshdb_cursor.execute(\"show tables from extremesportshouse;\")\n",
    "print(tabulate.tabulate([list(eachtuple) for eachtuple in eshdb_cursor.fetchall()]))"
   ]
  },
  {
   "cell_type": "code",
   "execution_count": 29,
   "metadata": {},
   "outputs": [
    {
     "name": "stdout",
     "output_type": "stream",
     "text": [
      "--  -----------\n",
      " 1  Fax\n",
      " 2  Telephone\n",
      " 3  Mail\n",
      " 4  E-mail\n",
      " 5  Web\n",
      " 6  Sales visit\n",
      " 7  Special\n",
      " 8  Other\n",
      " 9  Other\n",
      "10  Other\n",
      "11  Other\n",
      "12  Other\n",
      "--  -----------\n"
     ]
    }
   ],
   "source": [
    "eshdb_cursor.execute(\"select * from channels;\")\n",
    "print(tabulate.tabulate([list(eachtuple) for eachtuple in eshdb_cursor.fetchall()]))"
   ]
  },
  {
   "cell_type": "code",
   "execution_count": 19,
   "metadata": {},
   "outputs": [
    {
     "name": "stdout",
     "output_type": "stream",
     "text": [
      "  product_id  line               type          product                    brand      color          cost    price\n",
      "------------  -----------------  ------------  -------------------------  ---------  -----------  ------  -------\n",
      "        1110  Camping Equipment  Cooking Gear  TrailChef Water Bag        TrailChef  Clear          2.77     6.59\n",
      "        2110  Camping Equipment  Cooking Gear  TrailChef Canteen          TrailChef  Brown          6.92    12.92\n",
      "        3110  Camping Equipment  Cooking Gear  TrailChef Kitchen Kit      TrailChef  Unspecified   15.78    23.8\n",
      "        4110  Camping Equipment  Cooking Gear  TrailChef Cup              TrailChef  Silver         0.85     3.66\n",
      "        5110  Camping Equipment  Cooking Gear  TrailChef Cook Set         TrailChef  Silver        34.41    54.93\n",
      "        6110  Camping Equipment  Cooking Gear  TrailChef Deluxe Cook Set  TrailChef  Silver        78.72   129.72\n",
      "        7110  Camping Equipment  Cooking Gear  TrailChef Single Flame     TrailChef  Silver        46.38    66.77\n",
      "        8110  Camping Equipment  Cooking Gear  TrailChef Double Flame     TrailChef  Green         75      151.77\n",
      "        9110  Camping Equipment  Cooking Gear  TrailChef Kettle           TrailChef  Ash            5.07    13.22\n",
      "       10110  Camping Equipment  Cooking Gear  TrailChef Utensils         TrailChef  Silver         9.68    19.29\n"
     ]
    }
   ],
   "source": [
    "eshdb_cursor.execute(\"select * from products;\")\n",
    "print(tabulate.tabulate([list(row) for row in eshdb_cursor.fetchall()[:10]], headers=[desc[0] for desc in eshdb_cursor.description]))"
   ]
  },
  {
   "cell_type": "code",
   "execution_count": 3,
   "metadata": {},
   "outputs": [
    {
     "name": "stdout",
     "output_type": "stream",
     "text": [
      "  store_id    product_id    channel_id  date          quantity    official_price    offer_price\n",
      "----------  ------------  ------------  ----------  ----------  ----------------  -------------\n",
      "      1201        109110             4  12/01/2015         648             76.86          71.48\n",
      "      1201        112110             4  12/01/2015         799             10.64          10.21\n",
      "      1201        115110             4  12/01/2015         755             10.71          10.28\n",
      "      1205         70240             3  12/01/2015          70            122.7          114.11\n",
      "      1205         71110             3  12/01/2015          28             95.62          92.75\n",
      "      1215         73110             2  12/01/2015        3992             12.78          11.89\n",
      "      1215         83110             2  12/01/2015         156             96.44          89.69\n",
      "      1215         86110             2  12/01/2015        2615              6              5.58\n",
      "      1215         93110             2  12/01/2015        1913              5              4.65\n",
      "      1215         96110             2  12/01/2015         493             23             22.08\n"
     ]
    }
   ],
   "source": [
    "eshdb_cursor.execute(\"select * from sales;\")\n",
    "print(tabulate.tabulate([list(row) for row in eshdb_cursor.fetchall()[:10]], headers=[desc[0] for desc in eshdb_cursor.description]))"
   ]
  },
  {
   "cell_type": "code",
   "execution_count": 31,
   "metadata": {},
   "outputs": [
    {
     "name": "stdout",
     "output_type": "stream",
     "text": [
      "  store_id  store_name            type                    country\n",
      "----------  --------------------  ----------------------  -----------\n",
      "      1101  ActiForme             Equipment Rental Store  France\n",
      "      1115  SportsClub            Golf Shop               France\n",
      "      1123  Anapurna              Direct Marketing        France\n",
      "      1132  Cordages Discount     Warehouse Store         France\n",
      "      1133  Altitudes extrÃªmes   Outdoors Shop           France\n",
      "      1134  Optique et Lentilles  Eyewear Store           France\n",
      "      1135  Camping Sauvage       Outdoors Shop           France\n",
      "      1137  Grand choix           Department Store        Switzerland\n",
      "      1144  Die Fitness-Experten  Direct Marketing        Germany\n",
      "      1147  Der Fitness-Doktor    Sports Store            Germany\n"
     ]
    }
   ],
   "source": [
    "eshdb_cursor.execute(\"select * from stores;\")\n",
    "print(tabulate.tabulate([list(row) for row in eshdb_cursor.fetchall()[:10]], headers=[desc[0] for desc in eshdb_cursor.description]))"
   ]
  },
  {
   "cell_type": "markdown",
   "metadata": {},
   "source": [
    "## SALES"
   ]
  },
  {
   "cell_type": "markdown",
   "metadata": {},
   "source": [
    "The company ask me these tasks"
   ]
  },
  {
   "cell_type": "markdown",
   "metadata": {},
   "source": [
    "### <u>Review the data types</u>"
   ]
  },
  {
   "cell_type": "code",
   "execution_count": 4,
   "metadata": {},
   "outputs": [
    {
     "name": "stdout",
     "output_type": "stream",
     "text": [
      "Field           Type    Null    Key    Default    Extra\n",
      "--------------  ------  ------  -----  ---------  -------\n",
      "store_id        int     YES     MUL\n",
      "product_id      int     YES     MUL\n",
      "channel_id      int     YES     MUL\n",
      "date            text    YES\n",
      "quantity        int     YES\n",
      "official_price  double  YES\n",
      "offer_price     double  YES\n"
     ]
    }
   ],
   "source": [
    "# Let's see data types\n",
    "\n",
    "eshdb_cursor.execute(\"describe sales;\")\n",
    "print(tabulate.tabulate([list(row) for row in eshdb_cursor.fetchall()], headers=[desc[0] for desc in eshdb_cursor.description]))"
   ]
  },
  {
   "cell_type": "code",
   "execution_count": 28,
   "metadata": {},
   "outputs": [
    {
     "ename": "OperationalError",
     "evalue": "(1292, \"Incorrect datetime value: '12/01/2015'\")",
     "output_type": "error",
     "traceback": [
      "\u001b[1;31m---------------------------------------------------------------------------\u001b[0m",
      "\u001b[1;31mOperationalError\u001b[0m                          Traceback (most recent call last)",
      "\u001b[1;32mf:\\GDrive_DATA\\PROYECTOS\\sql\\Sql_ExtremeSport.ipynb Cell 20\u001b[0m line \u001b[0;36m3\n\u001b[0;32m      <a href='vscode-notebook-cell:/f%3A/GDrive_DATA/PROYECTOS/sql/Sql_ExtremeSport.ipynb#X51sZmlsZQ%3D%3D?line=0'>1</a>\u001b[0m \u001b[39m# Change the date type and also change to an european format\u001b[39;00m\n\u001b[1;32m----> <a href='vscode-notebook-cell:/f%3A/GDrive_DATA/PROYECTOS/sql/Sql_ExtremeSport.ipynb#X51sZmlsZQ%3D%3D?line=2'>3</a>\u001b[0m eshdb_cursor\u001b[39m.\u001b[39;49mexecute(\u001b[39m\"\u001b[39;49m\u001b[39mUPDATE sales SET date=DATE_FORMAT(date, \u001b[39;49m\u001b[39m'\u001b[39;49m\u001b[39m%d\u001b[39;49;00m\u001b[39m/\u001b[39;49m\u001b[39m%\u001b[39;49m\u001b[39mm/\u001b[39;49m\u001b[39m%\u001b[39;49m\u001b[39mY\u001b[39;49m\u001b[39m'\u001b[39;49m\u001b[39m);\u001b[39;49m\u001b[39m\"\u001b[39;49m)\n\u001b[0;32m      <a href='vscode-notebook-cell:/f%3A/GDrive_DATA/PROYECTOS/sql/Sql_ExtremeSport.ipynb#X51sZmlsZQ%3D%3D?line=3'>4</a>\u001b[0m \u001b[39mprint\u001b[39m(tabulate\u001b[39m.\u001b[39mtabulate([\u001b[39mlist\u001b[39m(row) \u001b[39mfor\u001b[39;00m row \u001b[39min\u001b[39;00m eshdb_cursor\u001b[39m.\u001b[39mfetchall()], headers\u001b[39m=\u001b[39m[desc[\u001b[39m0\u001b[39m] \u001b[39mfor\u001b[39;00m desc \u001b[39min\u001b[39;00m eshdb_cursor\u001b[39m.\u001b[39mdescription]))\n",
      "File \u001b[1;32mc:\\Users\\Usuario\\anaconda3\\envs\\env_SQLExtremeSport\\lib\\site-packages\\pymysql\\cursors.py:153\u001b[0m, in \u001b[0;36mCursor.execute\u001b[1;34m(self, query, args)\u001b[0m\n\u001b[0;32m    149\u001b[0m     \u001b[39mpass\u001b[39;00m\n\u001b[0;32m    151\u001b[0m query \u001b[39m=\u001b[39m \u001b[39mself\u001b[39m\u001b[39m.\u001b[39mmogrify(query, args)\n\u001b[1;32m--> 153\u001b[0m result \u001b[39m=\u001b[39m \u001b[39mself\u001b[39;49m\u001b[39m.\u001b[39;49m_query(query)\n\u001b[0;32m    154\u001b[0m \u001b[39mself\u001b[39m\u001b[39m.\u001b[39m_executed \u001b[39m=\u001b[39m query\n\u001b[0;32m    155\u001b[0m \u001b[39mreturn\u001b[39;00m result\n",
      "File \u001b[1;32mc:\\Users\\Usuario\\anaconda3\\envs\\env_SQLExtremeSport\\lib\\site-packages\\pymysql\\cursors.py:322\u001b[0m, in \u001b[0;36mCursor._query\u001b[1;34m(self, q)\u001b[0m\n\u001b[0;32m    320\u001b[0m conn \u001b[39m=\u001b[39m \u001b[39mself\u001b[39m\u001b[39m.\u001b[39m_get_db()\n\u001b[0;32m    321\u001b[0m \u001b[39mself\u001b[39m\u001b[39m.\u001b[39m_clear_result()\n\u001b[1;32m--> 322\u001b[0m conn\u001b[39m.\u001b[39;49mquery(q)\n\u001b[0;32m    323\u001b[0m \u001b[39mself\u001b[39m\u001b[39m.\u001b[39m_do_get_result()\n\u001b[0;32m    324\u001b[0m \u001b[39mreturn\u001b[39;00m \u001b[39mself\u001b[39m\u001b[39m.\u001b[39mrowcount\n",
      "File \u001b[1;32mc:\\Users\\Usuario\\anaconda3\\envs\\env_SQLExtremeSport\\lib\\site-packages\\pymysql\\connections.py:558\u001b[0m, in \u001b[0;36mConnection.query\u001b[1;34m(self, sql, unbuffered)\u001b[0m\n\u001b[0;32m    556\u001b[0m     sql \u001b[39m=\u001b[39m sql\u001b[39m.\u001b[39mencode(\u001b[39mself\u001b[39m\u001b[39m.\u001b[39mencoding, \u001b[39m\"\u001b[39m\u001b[39msurrogateescape\u001b[39m\u001b[39m\"\u001b[39m)\n\u001b[0;32m    557\u001b[0m \u001b[39mself\u001b[39m\u001b[39m.\u001b[39m_execute_command(COMMAND\u001b[39m.\u001b[39mCOM_QUERY, sql)\n\u001b[1;32m--> 558\u001b[0m \u001b[39mself\u001b[39m\u001b[39m.\u001b[39m_affected_rows \u001b[39m=\u001b[39m \u001b[39mself\u001b[39;49m\u001b[39m.\u001b[39;49m_read_query_result(unbuffered\u001b[39m=\u001b[39;49munbuffered)\n\u001b[0;32m    559\u001b[0m \u001b[39mreturn\u001b[39;00m \u001b[39mself\u001b[39m\u001b[39m.\u001b[39m_affected_rows\n",
      "File \u001b[1;32mc:\\Users\\Usuario\\anaconda3\\envs\\env_SQLExtremeSport\\lib\\site-packages\\pymysql\\connections.py:822\u001b[0m, in \u001b[0;36mConnection._read_query_result\u001b[1;34m(self, unbuffered)\u001b[0m\n\u001b[0;32m    820\u001b[0m \u001b[39melse\u001b[39;00m:\n\u001b[0;32m    821\u001b[0m     result \u001b[39m=\u001b[39m MySQLResult(\u001b[39mself\u001b[39m)\n\u001b[1;32m--> 822\u001b[0m     result\u001b[39m.\u001b[39;49mread()\n\u001b[0;32m    823\u001b[0m \u001b[39mself\u001b[39m\u001b[39m.\u001b[39m_result \u001b[39m=\u001b[39m result\n\u001b[0;32m    824\u001b[0m \u001b[39mif\u001b[39;00m result\u001b[39m.\u001b[39mserver_status \u001b[39mis\u001b[39;00m \u001b[39mnot\u001b[39;00m \u001b[39mNone\u001b[39;00m:\n",
      "File \u001b[1;32mc:\\Users\\Usuario\\anaconda3\\envs\\env_SQLExtremeSport\\lib\\site-packages\\pymysql\\connections.py:1200\u001b[0m, in \u001b[0;36mMySQLResult.read\u001b[1;34m(self)\u001b[0m\n\u001b[0;32m   1198\u001b[0m \u001b[39mdef\u001b[39;00m \u001b[39mread\u001b[39m(\u001b[39mself\u001b[39m):\n\u001b[0;32m   1199\u001b[0m     \u001b[39mtry\u001b[39;00m:\n\u001b[1;32m-> 1200\u001b[0m         first_packet \u001b[39m=\u001b[39m \u001b[39mself\u001b[39;49m\u001b[39m.\u001b[39;49mconnection\u001b[39m.\u001b[39;49m_read_packet()\n\u001b[0;32m   1202\u001b[0m         \u001b[39mif\u001b[39;00m first_packet\u001b[39m.\u001b[39mis_ok_packet():\n\u001b[0;32m   1203\u001b[0m             \u001b[39mself\u001b[39m\u001b[39m.\u001b[39m_read_ok_packet(first_packet)\n",
      "File \u001b[1;32mc:\\Users\\Usuario\\anaconda3\\envs\\env_SQLExtremeSport\\lib\\site-packages\\pymysql\\connections.py:772\u001b[0m, in \u001b[0;36mConnection._read_packet\u001b[1;34m(self, packet_type)\u001b[0m\n\u001b[0;32m    770\u001b[0m     \u001b[39mif\u001b[39;00m \u001b[39mself\u001b[39m\u001b[39m.\u001b[39m_result \u001b[39mis\u001b[39;00m \u001b[39mnot\u001b[39;00m \u001b[39mNone\u001b[39;00m \u001b[39mand\u001b[39;00m \u001b[39mself\u001b[39m\u001b[39m.\u001b[39m_result\u001b[39m.\u001b[39munbuffered_active \u001b[39mis\u001b[39;00m \u001b[39mTrue\u001b[39;00m:\n\u001b[0;32m    771\u001b[0m         \u001b[39mself\u001b[39m\u001b[39m.\u001b[39m_result\u001b[39m.\u001b[39munbuffered_active \u001b[39m=\u001b[39m \u001b[39mFalse\u001b[39;00m\n\u001b[1;32m--> 772\u001b[0m     packet\u001b[39m.\u001b[39;49mraise_for_error()\n\u001b[0;32m    773\u001b[0m \u001b[39mreturn\u001b[39;00m packet\n",
      "File \u001b[1;32mc:\\Users\\Usuario\\anaconda3\\envs\\env_SQLExtremeSport\\lib\\site-packages\\pymysql\\protocol.py:221\u001b[0m, in \u001b[0;36mMysqlPacket.raise_for_error\u001b[1;34m(self)\u001b[0m\n\u001b[0;32m    219\u001b[0m \u001b[39mif\u001b[39;00m DEBUG:\n\u001b[0;32m    220\u001b[0m     \u001b[39mprint\u001b[39m(\u001b[39m\"\u001b[39m\u001b[39merrno =\u001b[39m\u001b[39m\"\u001b[39m, errno)\n\u001b[1;32m--> 221\u001b[0m err\u001b[39m.\u001b[39;49mraise_mysql_exception(\u001b[39mself\u001b[39;49m\u001b[39m.\u001b[39;49m_data)\n",
      "File \u001b[1;32mc:\\Users\\Usuario\\anaconda3\\envs\\env_SQLExtremeSport\\lib\\site-packages\\pymysql\\err.py:143\u001b[0m, in \u001b[0;36mraise_mysql_exception\u001b[1;34m(data)\u001b[0m\n\u001b[0;32m    141\u001b[0m \u001b[39mif\u001b[39;00m errorclass \u001b[39mis\u001b[39;00m \u001b[39mNone\u001b[39;00m:\n\u001b[0;32m    142\u001b[0m     errorclass \u001b[39m=\u001b[39m InternalError \u001b[39mif\u001b[39;00m errno \u001b[39m<\u001b[39m \u001b[39m1000\u001b[39m \u001b[39melse\u001b[39;00m OperationalError\n\u001b[1;32m--> 143\u001b[0m \u001b[39mraise\u001b[39;00m errorclass(errno, errval)\n",
      "\u001b[1;31mOperationalError\u001b[0m: (1292, \"Incorrect datetime value: '12/01/2015'\")"
     ]
    }
   ],
   "source": [
    "# Change the date type and also change to an european format\n",
    "\n",
    "eshdb_cursor.execute(\"UPDATE sales SET date=DATE_FORMAT(date, '%d/%m/%Y');\")\n",
    "print(tabulate.tabulate([list(row) for row in eshdb_cursor.fetchall()], headers=[desc[0] for desc in eshdb_cursor.description]))\n"
   ]
  },
  {
   "cell_type": "markdown",
   "metadata": {},
   "source": [
    "### <u>Review the granularity of sales table</u>"
   ]
  },
  {
   "cell_type": "code",
   "execution_count": 16,
   "metadata": {},
   "outputs": [
    {
     "name": "stdout",
     "output_type": "stream",
     "text": [
      "5\n",
      "5\n",
      "5\n",
      "5\n",
      "5\n",
      "5\n",
      "5\n",
      "5\n",
      "5\n",
      "5\n",
      "5\n",
      "5\n",
      "5\n",
      "5\n",
      "5\n",
      "5\n",
      "5\n",
      "5\n",
      "5\n",
      "4\n"
     ]
    }
   ],
   "source": [
    "# The company ask me to check if the table is in this level -> store-product-channel-date\n",
    "\n",
    "eshdb_cursor.execute(\"\"\"\n",
    "    select count(*) as repeated_reg\n",
    "    from sales\n",
    "    group by store_id, product_id, channel_id, date\n",
    "    having repeated_reg > 1\n",
    "    order by repeated_reg desc\n",
    "    limit 20;\n",
    "    \"\"\")\n",
    "\n",
    "for each_tuple in eshdb_cursor:\n",
    "    print(each_tuple[0])"
   ]
  },
  {
   "cell_type": "code",
   "execution_count": 17,
   "metadata": {},
   "outputs": [
    {
     "name": "stdout",
     "output_type": "stream",
     "text": [
      "  store_id    product_id    channel_id  date          quantity    official_price    offer_price    repeated_reg\n",
      "----------  ------------  ------------  ----------  ----------  ----------------  -------------  --------------\n",
      "      1115        127110             5  22/12/2016         203             20.15          20.15               2\n",
      "      1115        127130             5  13/07/2018         133             21.25          21.25               2\n",
      "      1115        127130             5  22/12/2016         205             20.15          20.15               2\n",
      "      1115        129130             5  22/12/2016          19            220            220                  2\n",
      "      1115        130110             5  22/12/2016          24            167.2          167.2                2\n",
      "      1115        130130             2  16/01/2015           4            172            172                  2\n",
      "      1115        132120             2  18/10/2015           3             80             80                  2\n",
      "      1115        132120             5  22/12/2016          54             80             80                  2\n",
      "      1115        132170             5  13/07/2018          31             89.3           89.3                2\n",
      "      1115        132170             5  22/12/2016          48             85             85                  2\n",
      "      1115        144170             5  13/07/2018          15            189            189                  2\n",
      "      1115        144180             2  09/02/2016           4            188            188                  2\n",
      "      1115        144180             5  22/12/2016          21            188            188                  2\n",
      "      1115        145130             5  11/07/2017           1            274            274                  2\n",
      "      1115        145170             5  08/02/2018           2            270.2          270.2                2\n",
      "      1115        145170             5  11/01/2017           1            270.2          270.2                2\n",
      "      1115        145170             5  11/07/2017           1            270.2          270.2                2\n",
      "      1115        147110             5  22/12/2016         130             30.7           30.7                2\n",
      "      1115        147120             5  22/12/2016         131             30.7           30.7                2\n",
      "      1115        147130             5  13/07/2018          91             33.15          33.15               2\n"
     ]
    }
   ],
   "source": [
    "eshdb_cursor.execute(\"\"\"\n",
    "    select *, count(*) as repeated_reg\n",
    "    from sales\n",
    "    group by store_id, product_id, channel_id, date\n",
    "    having repeated_reg > 1\n",
    "    order by store_id, product_id, channel_id, date\n",
    "    limit 20;\n",
    "    \"\"\")\n",
    "\n",
    "print(tabulate.tabulate([list(row) for row in eshdb_cursor.fetchall()], headers=[desc[0] for desc in eshdb_cursor.description]))"
   ]
  },
  {
   "cell_type": "code",
   "execution_count": 21,
   "metadata": {},
   "outputs": [
    {
     "name": "stdout",
     "output_type": "stream",
     "text": [
      "  store_id    product_id    channel_id  date          quantity    official_price    offer_price\n",
      "----------  ------------  ------------  ----------  ----------  ----------------  -------------\n",
      "      1115        127110             5  22/12/2016         203             20.15          20.15\n",
      "      1115        127110             5  22/12/2016         271             20.15          20.15\n"
     ]
    }
   ],
   "source": [
    "# An example of duplicated record\n",
    "\n",
    "eshdb_cursor.execute(\"\"\"\n",
    "    select *\n",
    "    from sales\n",
    "    where store_id=1115 and product_id=127110 and channel_id=5 and date='22/12/2016';\n",
    "    \"\"\")\n",
    "\n",
    "print(tabulate.tabulate([list(row) for row in eshdb_cursor.fetchall()], headers=[desc[0] for desc in eshdb_cursor.description]))"
   ]
  },
  {
   "cell_type": "markdown",
   "metadata": {},
   "source": [
    "We can see here that quantity value is different.\n",
    "\n",
    "To have the table in the level required I'll agregate it by store, product, channel and date and I'll apply an aggregation function to the rest of variables, more concretly, the sum in qunatity and the average in official price and offer price."
   ]
  },
  {
   "cell_type": "markdown",
   "metadata": {},
   "source": [
    "### <u>Insert a new variable</u>"
   ]
  },
  {
   "cell_type": "markdown",
   "metadata": {},
   "source": [
    "With the total revenue of every sale\n"
   ]
  },
  {
   "cell_type": "markdown",
   "metadata": {},
   "source": [
    "# **<font color = '#3498eb'>DATA QUALITY</font>**"
   ]
  }
 ],
 "metadata": {
  "kernelspec": {
   "display_name": "env_SQLExtremeSport",
   "language": "python",
   "name": "python3"
  },
  "language_info": {
   "codemirror_mode": {
    "name": "ipython",
    "version": 3
   },
   "file_extension": ".py",
   "mimetype": "text/x-python",
   "name": "python",
   "nbconvert_exporter": "python",
   "pygments_lexer": "ipython3",
   "version": "3.9.18"
  }
 },
 "nbformat": 4,
 "nbformat_minor": 2
}
