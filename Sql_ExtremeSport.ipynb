{
 "cells": [
  {
   "cell_type": "markdown",
   "metadata": {},
   "source": [
    "# **<font color = '#3498eb'>SECTOR & COMPANY</font>**"
   ]
  },
  {
   "cell_type": "markdown",
   "metadata": {},
   "source": [
    "Extreme Sports House is a mountain and adventure distribution company. \n",
    "\n",
    "The outdoor apparel and gear sector, which encompasses mountain and adventure clothing and objects, has seen significant growth over the years. According to reports by the Outdoor Industry Association, consumer spending on outdoor recreation totaled $887 billion in 2017. This growth has been fueled by an increasing consumer focus on health and well-being, as well as a surge in adventure tourism. Various trends, such as the rising popularity of sustainable and eco-friendly products, are shaping the industry."
   ]
  },
  {
   "cell_type": "markdown",
   "metadata": {},
   "source": [
    "# **<font color = '#3498eb'>OBJETIVES</font>**"
   ]
  },
  {
   "cell_type": "markdown",
   "metadata": {},
   "source": [
    "The company has enlisted me to:\n",
    "\n",
    "· Extract maximum value from their existing data.\n",
    "\n",
    "· Identify the most profitable channels.\n",
    "\n",
    "· Determine who their most valuable clients are.\n",
    "\n",
    "· Develop strategies to increase profit margins.\n",
    "\n",
    "· Review the product portfolio to cut costs.\n",
    "\n",
    "· Optimize customer management processes.\n",
    "\n",
    "· Build a SQL-based recommendation system to increase cross-selling opportunities."
   ]
  },
  {
   "cell_type": "markdown",
   "metadata": {},
   "source": [
    "# **<font color = '#3498eb'>LIBRARIES</font>**"
   ]
  },
  {
   "cell_type": "code",
   "execution_count": null,
   "metadata": {},
   "outputs": [],
   "source": [
    "%pip install tabulate\n",
    "%pip install mysql-connector-python\n",
    "%pip install pymysql"
   ]
  },
  {
   "cell_type": "code",
   "execution_count": 15,
   "metadata": {},
   "outputs": [],
   "source": [
    "import pandas as pd\n",
    "import pymysql\n",
    "import tabulate "
   ]
  },
  {
   "cell_type": "markdown",
   "metadata": {},
   "source": [
    "# **<font color = '#3498eb'>DATA LOADING AND UNDERSTANDING</font>**"
   ]
  },
  {
   "cell_type": "code",
   "execution_count": 12,
   "metadata": {},
   "outputs": [],
   "source": [
    "conn = pymysql.connect(host='localhost', user='root', password='b8SO0ibY5claaghlgiehgld', database='extremesportshouse')\n",
    "\n",
    "eshdb_cursor = conn.cursor()"
   ]
  },
  {
   "cell_type": "code",
   "execution_count": 14,
   "metadata": {},
   "outputs": [
    {
     "name": "stdout",
     "output_type": "stream",
     "text": [
      "Currently using the database: extremesportshouse\n"
     ]
    }
   ],
   "source": [
    "eshdb_cursor.execute(\"SELECT DATABASE();\")\n",
    "\n",
    "fetched_results = eshdb_cursor.fetchone()\n",
    "print(\"Currently using the database:\", fetched_results[0])"
   ]
  },
  {
   "cell_type": "code",
   "execution_count": 29,
   "metadata": {},
   "outputs": [
    {
     "name": "stdout",
     "output_type": "stream",
     "text": [
      "--------------------\n",
      "canales\n",
      "productos\n",
      "tiendas\n",
      "v_ventas_agr_pedido\n",
      "v_ventas_agr_pedido2\n",
      "ventas\n",
      "ventas_agr\n",
      "--------------------\n"
     ]
    }
   ],
   "source": [
    "# I review the tables of the database and then review each table.\n",
    "\n",
    "eshdb_cursor.execute(\"show tables from extremesportshouse;\")\n",
    "\n",
    "print(tabulate.tabulate([list(eachtuple) for eachtuple in eshdb_cursor.fetchall()]))"
   ]
  },
  {
   "cell_type": "code",
   "execution_count": 30,
   "metadata": {},
   "outputs": [
    {
     "name": "stdout",
     "output_type": "stream",
     "text": [
      "--  -----------\n",
      " 1  Fax\n",
      " 2  Telephone\n",
      " 3  Mail\n",
      " 4  E-mail\n",
      " 5  Web\n",
      " 6  Sales visit\n",
      " 7  Special\n",
      " 8  Other\n",
      " 9  Other\n",
      "10  Other\n",
      "11  Other\n",
      "12  Other\n",
      "--  -----------\n"
     ]
    }
   ],
   "source": [
    "eshdb_cursor.execute(\"select * from canales;\")\n",
    "\n",
    "print(tabulate.tabulate([list(eachtuple) for eachtuple in eshdb_cursor.fetchall()]))"
   ]
  },
  {
   "cell_type": "code",
   "execution_count": 39,
   "metadata": {},
   "outputs": [
    {
     "name": "stdout",
     "output_type": "stream",
     "text": [
      "  id_prod  linea              tipo          producto                   marca      color          coste    precio\n",
      "---------  -----------------  ------------  -------------------------  ---------  -----------  -------  --------\n",
      "     1110  Camping Equipment  Cooking Gear  TrailChef Water Bag        TrailChef  Clear           2.77      6.59\n",
      "     2110  Camping Equipment  Cooking Gear  TrailChef Canteen          TrailChef  Brown           6.92     12.92\n",
      "     3110  Camping Equipment  Cooking Gear  TrailChef Kitchen Kit      TrailChef  Unspecified    15.78     23.8\n",
      "     4110  Camping Equipment  Cooking Gear  TrailChef Cup              TrailChef  Silver          0.85      3.66\n",
      "     5110  Camping Equipment  Cooking Gear  TrailChef Cook Set         TrailChef  Silver         34.41     54.93\n",
      "     6110  Camping Equipment  Cooking Gear  TrailChef Deluxe Cook Set  TrailChef  Silver         78.72    129.72\n",
      "     7110  Camping Equipment  Cooking Gear  TrailChef Single Flame     TrailChef  Silver         46.38     66.77\n",
      "     8110  Camping Equipment  Cooking Gear  TrailChef Double Flame     TrailChef  Green          75       151.77\n",
      "     9110  Camping Equipment  Cooking Gear  TrailChef Kettle           TrailChef  Ash             5.07     13.22\n",
      "    10110  Camping Equipment  Cooking Gear  TrailChef Utensils         TrailChef  Silver          9.68     19.29\n"
     ]
    }
   ],
   "source": [
    "eshdb_cursor.execute(\"select * from productos;\")\n",
    "column_names = [desc[0] for desc in eshdb_cursor.description]\n",
    "\n",
    "print(tabulate.tabulate([list(row) for row in eshdb_cursor.fetchall()[:10]], headers=column_names))"
   ]
  },
  {
   "cell_type": "markdown",
   "metadata": {},
   "source": [
    "# **<font color = '#3498eb'>DATA QUALITY</font>**"
   ]
  }
 ],
 "metadata": {
  "kernelspec": {
   "display_name": "env_SQLExtremeSport",
   "language": "python",
   "name": "python3"
  },
  "language_info": {
   "codemirror_mode": {
    "name": "ipython",
    "version": 3
   },
   "file_extension": ".py",
   "mimetype": "text/x-python",
   "name": "python",
   "nbconvert_exporter": "python",
   "pygments_lexer": "ipython3",
   "version": "3.9.18"
  }
 },
 "nbformat": 4,
 "nbformat_minor": 2
}
